{
 "cells": [
  {
   "cell_type": "code",
   "execution_count": null,
   "metadata": {},
   "outputs": [],
   "source": [
    "import os\n",
    "import pandas as pd\n",
    "from pathlib import Path\n",
    "\n",
    "\n",
    "repo_dir = Path(os.path.abspath(\"\")).parent.parent \n",
    "eval_dir = repo_dir / \"eval\"\n",
    "\n",
    "eval_1 = eval_dir /\"eval-1.csv\"\n",
    "eval_2 = eval_dir / \"eval-2.csv\"\n",
    "\n",
    "\n",
    "eval_1_df = pd.read_csv(eval_1, keep_default_na=False)\n",
    "eval_2_df = pd.read_csv(eval_2, keep_default_na=False)\n",
    "\n",
    "eval_1_df = eval_1_df.set_index(['ds', 'id', 'question-idx'])\n",
    "eval_2_df = eval_2_df.set_index(['ds', 'id', 'question-idx'])\n",
    "\n",
    "eval_1_df = eval_1_df.loc[eval_2_df.index]\n",
    "diffs = (eval_1_df != eval_2_df)['predicted']\n",
    "eval_1_diff = eval_1_df[diffs]\n",
    "eval_2_diff = eval_2_df[diffs]\n",
    "\n",
    "pd.options.display.max_rows = 100\n",
    "eval_1_diff['predicted-1'] = eval_1_diff['predicted']\n",
    "eval_1_diff['correct-1'] = eval_1_diff['correct']\n",
    "eval_1_diff['predicted-2'] = eval_2_diff['predicted']\n",
    "del eval_1_diff['predicted']\n",
    "eval_1_diff['correct-2'] = eval_2_diff['correct']\n",
    "del eval_1_diff['correct']\n",
    "del eval_1_diff['failed']\n",
    "\n",
    "eval_1_diff = eval_1_diff[eval_1_diff['correct-1'] != eval_1_diff['correct-2']]\n",
    "\n",
    "display(eval_1_diff)\n",
    "# display(eval_2_diff)"
   ]
  }
 ],
 "metadata": {
  "kernelspec": {
   "display_name": "Python 3",
   "language": "python",
   "name": "python3"
  },
  "language_info": {
   "codemirror_mode": {
    "name": "ipython",
    "version": 3
   },
   "file_extension": ".py",
   "mimetype": "text/x-python",
   "name": "python",
   "nbconvert_exporter": "python",
   "pygments_lexer": "ipython3",
   "version": "3.12.5"
  }
 },
 "nbformat": 4,
 "nbformat_minor": 2
}
